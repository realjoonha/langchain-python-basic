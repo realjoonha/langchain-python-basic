{
 "cells": [
  {
   "attachments": {},
   "cell_type": "markdown",
   "id": "812a4dbc-fe04-4b84-bdf9-390045e30806",
   "metadata": {},
   "source": [
    "## Multi-modal RAG\n",
    "\n",
    "\n",
    "\n",
    "## Packages\n",
    "\n",
    "In addition to the below pip packages, you will also need `poppler` ([installation instructions](https://pdf2image.readthedocs.io/en/latest/installation.html)) and `tesseract` ([installation instructions](https://tesseract-ocr.github.io/tessdoc/Installation.html)) in your system."
   ]
  },
  {
   "cell_type": "code",
   "execution_count": null,
   "id": "98f9ee74-395f-4aa4-9695-c00ade01195a",
   "metadata": {},
   "outputs": [],
   "source": [
    "! pip install -U langchain openai langchain-chroma langchain-experimental # (newest versions required for multi-modal)"
   ]
  },
  {
   "cell_type": "code",
   "execution_count": null,
   "id": "140580ef-5db0-43cc-a524-9c39e04d4df0",
   "metadata": {},
   "outputs": [],
   "source": [
    "! pip install \"unstructured[all-docs]\" pillow pydantic lxml pillow matplotlib chromadb tiktoken"
   ]
  },
  {
   "cell_type": "markdown",
   "id": "74b56bde-1ba0-4525-a11d-cab02c5659e4",
   "metadata": {},
   "source": [
    "## 데이터 로딩\n",
    "### PDF의 표, 텍스트, 이미지 분할\n"
   ]
  },
  {
   "cell_type": "code",
   "execution_count": 69,
   "id": "c59df23c-86f7-4e5d-8b8c-de92a92f6637",
   "metadata": {},
   "outputs": [],
   "source": [
    "from langchain_text_splitters import CharacterTextSplitter\n",
    "from unstructured.partition.pdf import partition_pdf\n",
    "\n",
    "\n",
    "# Extract elements from PDF\n",
    "def extract_pdf_elements(path, fname):\n",
    "    \"\"\"\n",
    "    Extract images, tables, and chunk text from a PDF file.\n",
    "    path: File path, which is used to dump images (.jpg)\n",
    "    fname: File name\n",
    "    \"\"\"\n",
    "    return partition_pdf(\n",
    "        filename=path + fname,\n",
    "        extract_images_in_pdf=True,\n",
    "        infer_table_structure=True,\n",
    "        chunking_strategy=\"by_title\",\n",
    "        max_characters=4000,\n",
    "        new_after_n_chars=3800,\n",
    "        combine_text_under_n_chars=2000,\n",
    "        image_output_dir_path=path,\n",
    "        # image_output_dir_path=os.path.join(os.getcwd(),\"figures\"),\n",
    "    )\n",
    "\n",
    "\n",
    "# Categorize elements by type\n",
    "def categorize_elements(raw_pdf_elements):\n",
    "    \"\"\"\n",
    "    Categorize extracted elements from a PDF into tables and texts.\n",
    "    raw_pdf_elements: List of unstructured.documents.elements\n",
    "    \"\"\"\n",
    "    tables = []\n",
    "    texts = []\n",
    "    for element in raw_pdf_elements:\n",
    "        if \"unstructured.documents.elements.Table\" in str(type(element)):\n",
    "            tables.append(str(element))\n",
    "        elif \"unstructured.documents.elements.CompositeElement\" in str(type(element)):\n",
    "            texts.append(str(element))\n",
    "    return texts, tables\n"
   ]
  },
  {
   "cell_type": "code",
   "execution_count": 70,
   "id": "6e2b613c-6efd-4469-981e-c5f14af2b2fe",
   "metadata": {},
   "outputs": [
    {
     "name": "stdout",
     "output_type": "stream",
     "text": [
      "현재 스크립트의 위치: /Users/usermackbookpro/langchain-python/langchain-jupyter\n",
      "pdf 위치: /Users/usermackbookpro/langchain-python/langchain-jupyter/cj/\n"
     ]
    }
   ],
   "source": [
    "import os\n",
    "\n",
    "# 현재 실행 중인 스크립트의 디렉토리 경로를 찾습니다.\n",
    "# script_directory = os.path.dirname(os.path.abspath(__file__))\n",
    "\n",
    "current_directory = os.getcwd()\n",
    "fname = \"20240806_market_145038000.pdf\"\n",
    "fpath = os.path.join(os.getcwd(),\"cj/\")\n",
    "\n",
    "print(\"현재 스크립트의 위치:\", current_directory)\n",
    "print(\"pdf 위치:\",fpath)"
   ]
  },
  {
   "cell_type": "markdown",
   "id": "fa67ec0d-ceed-41c3-907b-c3f1a571bca5",
   "metadata": {},
   "source": [
    "### 요소 추출\n",
    "\n",
    "`extract_pdf_elements(fpath, fname)`: PDF 파일의 경로와 이름을 받아서 PDF 요소를 추출합니다.\n",
    "\n",
    "### 텍스트와 표 요소 분류\n",
    "\n",
    "`categorize_elements(raw_pdf_elements)`: 추출된 요소를 텍스트와 표로 분류합니다.\n",
    "\n",
    "### 선택사항: 텍스트의 특정 토큰 크기 강제 적용\n",
    "\n",
    "`CharacterTextSplitter.from_tiktoken_encoder(...)`: 텍스트를 특정 크기로 분할하기 위해 텍스트 분할기를 초기화합니다.\n",
    "- `chunk_size=3000`: 각 텍스트 청크의 최대 크기를 3000자로 설정합니다.\n",
    "- `chunk_overlap=200`: 청크 간의 겹침을 200자로 설정합니다.\n",
    "- `joined_texts = \" \".join(texts)`: 모든 텍스트를 하나의 문자열로 결합합니다.\n",
    "- `texts_6k_token = text_splitter.split_text(joined_texts)`: 결합된 텍스트를 설정한 크기와 겹침으로 분할합니다."
   ]
  },
  {
   "cell_type": "code",
   "execution_count": 71,
   "id": "575afe10-abe3-4b49-afb5-e31e89150e4d",
   "metadata": {},
   "outputs": [],
   "source": [
    "# File path\n",
    "# fpath = \"/Users/rlm/Desktop/cj/\"\n",
    "# fname = \"cj.pdf\"\n",
    "# fpath = os.join(os.getcwd(),\"cj\",fname)\n",
    "\n",
    "# Get elements\n",
    "raw_pdf_elements = extract_pdf_elements(fpath, fname)\n",
    "\n",
    "# Get text, tables\n",
    "texts, tables = categorize_elements(raw_pdf_elements)\n",
    "\n",
    "# Optional: Enforce a specific token size for texts\n",
    "text_splitter = CharacterTextSplitter.from_tiktoken_encoder(\n",
    "    chunk_size=6000, chunk_overlap=200\n",
    ")\n",
    "joined_texts = \" \".join(texts)\n",
    "texts_4k_token = text_splitter.split_text(joined_texts)"
   ]
  },
  {
   "cell_type": "code",
   "execution_count": 72,
   "id": "1dff29ef-1ae4-4cc4-81a4-88c0a8a52c84",
   "metadata": {
    "scrolled": true
   },
   "outputs": [
    {
     "data": {
      "text/plain": [
       "[\"2024.08.06\\n\\n간판과  본질  \\n\\n     \\n\\nKOSPI는 낙폭 과대, 미국 기술주는 아직 주의\\n\\nEquity Strategy\\n\\n[시황/전략] 이웅찬 (2122-9188) wlee@imfnsec.com [퀀트/RA] 신희철 (2122-9187) shc4235@ imfnsec.com\\n\\n미 기술주는 비쌌고 경기 하강 우려는 과소평가되었다고 판단하지만, KOSPI 지수의 일간 사상 최대 폭락은 과도한 부분이 있었다. 단기 반등 및 기간조정을 지난 다음 10월 이후의 변곡점을 준비하자.\\n\\n역시 물가'만' 잡힌 것이 아니었네\\n\\n리세션 우려가 갑작스럽다는 의견도 있으나 미국 경제의 거의 모든 부문에서 고금리의 영향에 따른 경기 하강의 징후가 나타나고 있었으며, AI 투자지출이 미국 경제의 호황을 이어갈 것이라는 낙관론이 과도했다고 판단한다. 리세션의 여부보다는 경제는 하강하고 있는데 연준은 빠르게 완화하기 어렵다는 사실이 중요하다. 연준이 늦은 것이 아니라 나스닥 기술주가 비쌌다고 말하고 싶다.\\n\\nCapex냐 EPS냐, 외통수에 걸린 나스닥\\n\\n빅테크 기업은 AI 경쟁을 계속하겠다면 소프트웨어 회사의 주가가, 투자를 줄이고 이익을 지키겠다면 반도체 회사의 조정으로 귀결될 수 있다. 시장은 리세션을 우려하며 급락했으나 리세션이 아니더라도 경기는 하강하고 있는데 선행 EPS는 견조했고 밸류에이션은 비싸서 주식에 우호적인 환경이 아니었다. 그 외에도 2분기 중에는 기술주에 대한 많은 고점 시그널들이 나타났다. 엔캐리 트레이딩의 언와인딩은 조정 트리거가 되었을 수는 있겠으나 본질은 기술주가 비쌌다는데 있다. 미 증시는 2013년 이후 장기 강세장을 마무리하는지 여부가 고민된다.\\n\\nKOSPI는 과매도, 전망보다 대응의 영역. 10월 이후 변곡점을 기대\\n\\n나스닥, S&P500 지수는 추세상승선을 이탈했으나 아직 이격이 커 단기 반등을 전망하기 어렵다. 9월 FOMC에서 연준의 전격 50bp 금리 인하 등이 진행된다면 증시 반등이 빨라질 것이나 가능성은 낮을 것으로 생각된다. 미국에서 대선 전까지 정치 리더십이 부재한 것도 반등을 늦추는 한 원인이다. 반면 KOSPI 지수는 과도할 정도로 하락해 상승 추세로의 회복은 아닐지라도 단기 반등을 기대해볼만 하다. 하반기 밴드 하단 2,550pt를 조정하지 않는다. 변곡점은 10월 즈음 형성될 것으로 생각한다. 11월 초에는 미 대선, FOMC라는 굵직한 이벤트가 있으며 높아진 변동성이 다시 낮아지기에도 충분한 시간 간격이 있다.\\n\\n그림1. 경기 침체 가능성이 높아지고 있으나 오히려 침체 전망은 22-23년보다 낮아진 상황. 낙관론을 주의할 필요가 있음\\n\\n그림2. KOSPI 지수는 단기 반등 후 기간조정을 거치다가 11월 미 대선과 FOMC를 앞두고 회복세를 보일 것으로 전망\\n\\n(%) O] 12748 Lh SAA] SS AHO] (SSH)\\n\\n자료: Bloomberg,  하이투자증권  리서치본부  \\n\\n     자료: Quantiwise,  하이투자증권  리서치본부  \\n\\nIY oHlEAS2t\\n\\n간판과 본질 – 뉴스와 가격과 펀더멘털 사이의 고민\\n\\n1-1. 역시 물가'만' 잡힌 것이 아니었네\\n\\n지난 주 마이크로소프트를 비롯한 빅테크의 실적 및 Capex 계획부터 FOMC와 BOJ를 비롯한 중앙은행의 통화정책, 그리고 미국의 ISM 제조업과 고용지표라는 묵직한 이벤트를 모두 확인한 결과는 증시의 폭락이었다. 빅테크 기업들의 실적이 썩 만족스럽지는 않았지만 Capex를 줄이지 않겠다고 발표하고 FOMC에서 9월 인하 가능성을 열어두자 주식시장은 불확실성을 넘어섰다며 안도하기도 했지만, ISM 제조업 지표와 실업률이 부진하게 발표되면서 시장은 하락으로 방향을 결정했다. 예상치를 넘어서는 실업률의 상승은 리세션의 선행지표라는 샴 룰 트리거를 넘어서며 리세션 공포를 불러왔고, BOJ의 금리 인상은 일본 증시 폭락을 유발했다. 8/5 월요일 KOSPI 지수는 사상 최대의 하락 폭을 기록하며 서킷브레이커가 발동되는 등 급락했는데 특히 당일 -12%나 하락한 닛케이 지수의 하락에 영향을 받았을 것으로 판단된다.\\n\\n리세션 우려가 갑작스럽다는 의견도 있으나, 미국 경제가 강력했던 23년을 지난 24년에는 건설투자부터 제조업, 소비, 신용대출 등 미국 경제의 거의 모든 부문에서 고금리의 영향에 따른 경기 하강의 징후가 나타나고 있었으며 고용지표의 하락 여부만을 기다리고 있던 상황이었다. 코로나 이후 호황 국면에서는 고용 수요가 공급을 한참 초과한 때도 있었으나, 최근부터는 고용 수요의 감소와 구직률(Job vacancy rate)의 상승이 실업률 상승으로 이어질까 우려되던 상황이었다. 지난 주 샴 룰이 촉발되기 이전에도 금리가 이미 7월부터 속락하면서 경기 하강 가능성을 가격에 반영하고 있었다. 그럼에도 AI 낙관론이나 제조업 설비투자가 기대감이 미국 경기가 강력하다는 착시를 만들어냈다고 생각된다.\\n\\n리세션 우려가 과도하다기보다는 AI 투자, 특히 투자지출이 미국 경제의 호황을 이어갈 것이라는 낙관론이 과도했다고 판단한다. AI 투자가 지속되더라도 고용이 대폭 확대되기는 어려우며, 고용시장은 지금까지 정부, 의료 부문 고용으로 버텨지고 있었다. 빅테크 기업은 경쟁 때문에 AI 관련 Capex를 이어가겠다고 발표했지만 비용 부담에 지속 가능성에 의문이 제기되고 있으며, 오히려 AI 기대로 인해 상반기 중 나스닥 기술주의 강세가 이어지며 금리인하를 지연시키는 효과를 만들어냈다. IRA 정책이나 미국의 제조업화와 관련된 제조업 건설투자 지출은 21-23년 급증했으나 24년에는 상승세가 눈에 띄게 둔화되었으며 미 대선 등 정책 불확실성은 LG에너지솔루션의 제3공장 투자 중단과 같이 IRA 정책 관련 투자를 축소시키고 있다. 고금리는 주택 수요자의 구매여력을 크게 둔화시켰으며 주택시장 관련 지표 전반은 금융위기 이후 최악의 수준까지 악화되어 있다.\",\n",
       " '당사에서는 6월 이후 경제 급락을 우려하는 의견을 제시했고, 늦어지는 금리 인하가 경제를 하강시킬 것이며 2분기에 다시 시작된 물가 하락은 이제는 물가만 잡힌 디스인플레이션이 아니라, 고금리 정책에 물가와 함께 경제까지 잡혔을 가능성이 높아 디플레이션, 리세션 가능성을 가능성을 고려해야 한다고 지적한 바 있다. 그리고 우려한대로 물가만 잡힌 것이 아니었음이 확인되고 있다.\\n\\n그림3. 물가만 잡힌 것이 아니었고 경기도 하강하고 있음을 큰 폭으로 하락한 국채금리가 미리 가격 반영 그림4. 경기 침체 가능성이 높아지고 있으나 오히려 침체 전망은 22-23년보다 낮아진 상황. 낙관론을 주의할 필요가 있음\\n\\nO|= 24 ael (@h o|= 104 core CPI MoM (2) (%) 5.5 5.0 45 4.0 sel (2h) 3.5 23.07 23.10 24.01 24.04 24.07 (%) 0.0\\n\\n(%) O] 12718 UY SAA] Ss AHO] (SSH) 100 80 60 40 20 n 18 14 16 20 22 24\\n\\n자료: Bloomberg, 하이투자증권 리서치본부\\n\\n자료: Bloomberg, 하이투자증권 리서치본부\\n\\n2\\n\\nIY oHlEAS2t\\n\\n간판과 본질 – 뉴스와 가격과 펀더멘털 사이의 고민 1-2. 리세션 O, X 퀴즈를 맞추는게 중요한 것이 아니다.\\n\\n샴 룰 발동이 증시 하락의 트리거가 되자 시장 참여자들은 리세션이 발생할 것인지 아닌지 실속없는 O,X 논쟁을 벌이고 있으며 결론은 대부분 아직 리세션인지 판단하기 어렵다는 주장에 손을 들어주고 있다. 리세션 여부라는 것은 미국 국립 경제연구소(NBER)의 기준에 따라 사후에 경제학자들의 합의를 통해 결정되는 것으로 당장의 투자 판단에 도움이 되지 못할뿐더러 리세션의 여부를 떠나 경제는 하강하고 있다는 사실이 중요하다.\\n\\n금융시장은 일단 리세션인지 아닌지 여부를 따지기에 앞서 일단 리세션 가능성을 상당 폭 반영한 다음 이후의 경제지표를 사후적으로 확인하며 가격을 다시 재조정할 것이며, 가장 큰 문제는 경제가 예상보다 빠르게 하강하고 증시가 하락하더라도 이제 막 인플레이션의 시기를 지나온 이번에는 과거 금융위기나 코로나 판데믹 시기와 같이 신속한 금리인하가 어려울 것이라는 사실이다.\\n\\n당사에서는 올 연초까지만 해도 2분기 중 미국의 금리인하 시그널이 나올 것으로 전망했으며, 1994-96년의 사례와 같이 소폭의 보험성 인하로 경기 둔화가 소프트패치로 마무리되고 강력한 IT 수요가 경기 호조세를 이끌어갈 가능성을 높게 판단했다. 그러나 22년 늦게 시작된 금리 인상은 기준금리 상승의 폭을 보다 높게 만들었으며, 재차 실수하지 않고 data에 의존하여 결정하겠다는 의사결정방침은 인하 시작을 늦췄다.\\n\\n경기 둔화가 확연해지자 연준 금리인하 실기 논란도 불거지고 있는데, 3-5월에 금리를 인하했었다면 리세션 우려는 한참 낮아졌을 수도 있겠지만 당시만 해도 AI 투자 낙관론이 시장을 뒤덮고 있었던 것을 생각하면 인하가 늦었다고 단정하기는 어려운 부분이 있다. 연준이 자산가격을 받치기 위해서라면 늦었다고 얘기할 수도 있지만, 연준은 자산가격만 고민할 수는 없고, 연준이 늦은 것이 아니라 나스닥 기술주가 비쌌다고 말하고 싶다. 예전처럼 유동성 공급으로 자산가격을 받치기 쉽지 않다. 어쩌면 우리는 코로나 이후의 과잉대응에 대한 사후비용을 아직 정산하고 있는 셈이다.\\n\\n그림5. 엔비디아 직원 수와 매출액. AI 붐으로 인해 매출은 급증했으나 고용 증가는 그보다 더딘 편\\n\\n그림6. 선진국, 미국 OECD 경기선행지수는 여전히 상승 국면에 있으나 상승폭은 점차 둔화되기 시작\\n\\n(AB) —o— 219] A (AI OW 20H (Oo castey 100 HEF GD TM ES) 90 80 80 + 70 60 60 + 4 50 | 40 40 = 30 20 + Lo | 20 [goo oo ge 770 o | ! : ; ! 0 10 12\\n\\n  \\n\\n자료: Refinitiv, 하이투자증권 리서치본부\\n\\n자료: Bloomberg, 하이투자증권 리서치본부\\n\\n3\\n\\nIY oHlEAS2t\\n\\n간판과 본질 – 뉴스와 가격과 펀더멘털 사이의 고민\\n\\n2-1. Capex냐 EPS냐, 선택을 강요받을 빅테크 기업\\n\\nMicrosoft, Meta등 주요 빅테크 소프트웨어 기업들이 실적발표에서 AI Capex를 이어가겠다고 발표하자, 혹시나 모를 Capex 축소를 우려하며 미리 하락해 있던 반도체 주식은 안도하며 단기 반등을 만들어냈다. 그러나 Capex 유지 가능성에 대한 의문은 계속되고 있고, Alphabet은 AI로 인한 수익화는 아직 멀어보이고 투자는 부담이라 언급한 바 있다.\\n\\nMicrosoft는 이번 분기에 220억 달러의 순이익을 냈는데, Capex 지출로 순이익 전부에 육박하는 190억 달러를 지출했다. 회사에서는 AI 경쟁을 위해 투자를 이어가고 있으나 Capex 규모는 상황이 악화되면 언제나 축소할 수 있다며 투자자들을 달랬다. Capex 지출 중 절반은 토지, 건물 등 장기간에 걸쳐 감가상각 비용을 인식하지만, 나머지 절반 가량은 GPU, CPU 등의 설비로 상대적으로 짧은 감가상각 연한을 가진다. 당사 인터넷/게임 애널리스트 윤예지 연구원은 24년에 집행한 Capex로 인한 25년도 감가상각비 증가 규모는 60억 달러 내외로 추정했으며 이는 24년도 영업이익의 5%에 달한다.\\n\\nMicrosoft의 내년 매출 성장률 컨센서스는 약 +10%, 이익 성장률은 약 +15% 정도이다. 경제에 큰 문제가 없다면 클라우드 매출 증가 등이 감가상각 비용을 상쇄하고 성장을 이끌겠으나, 경기 하강이 예상보다 빨라진다면 매출 성장이 둔화되며 이익 전망치를 달성하기 어렵게 된다. 회사로서는 EPS와 Capex중 선택을 강요받게 될 것이고 AI 경쟁을 계속하겠다면 소프트웨어 회사의 주가가, 투자를 줄이고 이익을 지키겠다면 반도체 회사의 조정으로 귀결될 수 있다. AI 투자는 장래의 수익과 경쟁력을 위한 것이라지만, 월가의 인내심은 대개 다음분기 실적이 나올 3개월 이상 유지되기 어렵다.\\n\\n이렇게 되면 미국 증시의 내년 이익에 대해서도 신뢰하기 어려워진다. 내년 나스닥 지수의 이익은 YoY +24% 성장, S&P500 지수의 이익은 약 +14%가량 성장할 것으로 집계되고 있으나 경기 하강 가능성을 고려할 때 달성 여부에 의문이 제기된다. 이익 성장이 확인된다 한들 소프트웨어 기업의 이익은 Capex로 지출되니 온전한 이익이 되지 못한다. 빅테크 소프트웨어 기업의 마진은 축소(squeeze) 될 것이다. 반도체와 빅테크 모두에게 좋은 결말을 예상하기는 어려워 보인다.\\n\\n그림7. Microsoft의 순이익과 Capex. 이번 분기에는 220억 달러를 벌었는데 190억 달러를 지출했음 그림8. 내년 S&P500 지수의 이익은 약 14% 성장할 것으로\\n\\n전망되고 있으나 경기 하강 가능성이 있음',\n",
       " '그림7. Microsoft의 순이익과 Capex. 이번 분기에는 220억 달러를 벌었는데 190억 달러를 지출했음 그림8. 내년 S&P500 지수의 이익은 약 14% 성장할 것으로\\n\\n전망되고 있으나 경기 하강 가능성이 있음\\n\\nAo SF (a4 gat) mz0/2} ™ Capex 2 oo 15 + 10 + > f 0 MEE 21.1Q 22.1Q 23.1Q 24.1Q\\n\\n(pt) mS&PSOO EPS 300 14% SB id 250 f 200 | 150 + 100 + 50} 0 2016 17 23. 24E 25E —— —\\n\\n자료: Microsoft, 하이투자증권 리서치본부\\n\\n자료: Refinitiv, 하이투자증권 리서치본부\\n\\n4\\n\\nIY oHlEAS2t\\n\\n간판과 본질 – 뉴스와 가격과 펀더멘털 사이의 고민\\n\\n2-2 리세션이 아니더라도 충분했던 고점 시그널\\n\\n시장은 리세션을 우려하며 급락했으나 리세션이 아니더라도 경기는 하강하고 있는데 선행 EPS는 견조했고 밸류에이션은 비싸서 주식에 우호적인 환경이 아니었다. 24년 7월 중순의 주요 빅테크 기업의 선행 P/E 배수는 Microsoft가 35배를 넘어서는 등 22년 1월 나스닥 조정의 수준보다 높았다. 호재가 없어도 주가가 더 오르기 어려웠는데 악재의 발생 가능성은 높아지고 있었다.\\n\\n그 외에도 2분기 중에는 기술주에 대한 많은 고점 시그널들이 나타났다. 매크로 트레이더 드러켄밀러는 3월에 미리 엔비디아에서 하차하며 러셀2000으로 갈아탔고, 월가의 마지막 약세론자 JP모건의 콜라노비치는 7월 초 회사를 그만두었다. 약세론자는 사라졌고 모두가 AI에 열광하는 사이 버핏은 2분기 중 포트폴리오 비중이 40%나 되는 애플을 절반이나 줄였다.\\n\\n증시 조정의 이유로 일본은행의 금리 인상과 엔캐리 트레이드 청산도 거론된다. 일본은 10여년간 지속해온 아베노믹스의 결과 인플레이션이 회복되었고 기업이익과 고용이 살아나며 어느 정도 목표를 달성한 부분이 있으나, 이제 국민들이 더 이상의 엔화 약세를 견디기 어려운 시점에 다다랐다. 전 세계 선진국이 통화 완화를 고민하는데 혼자서 긴축을 시작하고 있으니 10여년간 지속된 일본 증시의 랠리도 마무리될 때가 된 것처럼 보이자 닛케이 지수는 급락했고 엔화는 급격히 강세로 전환되며 엔화를 차입해 투자한 엔캐리 트레이드도 언와인딩이 나타났다.\\n\\n닛케이 급락과 엔캐리 트레이딩 청산을 증시 하락의 원인으로 꼽는 시각도 많다. 트리거가 되었을 수는 있겠으나 하락의 본질은 경기는 하강하고 이익 전망치는 달성하기 어려워 보이는데 기술주 밸류에이션은 닷컴버블 이후 최고 수준이었고 연준은 빠르게 인하 대응하기 어렵다는데 있다. 다만 8/5 월요일의 닛케이 지수 -12%은 과도한 부분이 있었으며 이는 국내 증시에도 과매도로 작용했다고 판단한다.\\n\\n나스닥 지수는 이번 조정으로 22년 하반기부터의 장기 상승추세선을 이탈했다. 그 동안의 상승과 이격이 워낙 컸던 탓에 단기간 내 반등을 이야기하기는 어렵겠으나, 그보다 더욱 우려되는 점은 장기 상승 추이를 회복할 수 있을지의 여부이다. 미 증시는 길게는 08년 금융위기 이후부터, 전고점 돌파 시점부터 따져도 2013년 1분기 이후 강세장을 지속해오고 있었다. 최근 10여년과 같은 높은 수익률을 앞으로도 달성할 수 있을지의 여부는 추후의 고민거리가 될 것이다. 기대수익률은 낮아져야 할 것이다.\\n\\n그림9. 7월 초 회사를 그만 둔 약세론자 콜라노비치(좌), 2분기 애플을 팔고 현금비중을 늘린 버핏(우)\\n\\n그림10. 최근 10여년간 이어온 장기 상승 추이가 언제까지 지속될 수 있을지는 논쟁의 여지가 있으나 기대수익률은 낮아져야\\n\\nJPMorgan’s Kolanovic to Exit Amid String of Poor Stock Calls \"Lakos-Bujas takes over as the bank\\'s chief market strategist ‘Hussein Malik to be JPMorgan\\'s sole head of global research ire\\'s cash pile hits 200\\n\\n(pt, Log) —— S&P500 Al 8192 - 4,096 2,048 1,024 512 256 q2g 0 Es 86 88 90 92 94 96 98 00 02 04 06 08 10 12 14 16 18 20 22 24\\n\\n자료: Bloomberg News, Financial Times, 하이투자증권 리서치본부\\n\\n자료: Bloomberg, 하이투자증권 리서치본부\\n\\n5\\n\\nIY oHlEAS2t\\n\\n간판과 본질 – 뉴스와 가격과 펀더멘털 사이의 고민 3-1 미국 기술주는 보수적 접근, 10월 이후 변곡점을 기대\\n\\n첫 금리인하를 즈음하여 경기하강 우려에 따른 증시 조정 가능성을 걱정했는데 예상했던 이유로, 예상했던 시점보다 조금 더 빠르게 조정이 나타났다. 이번에도 시장은 빨랐다. 나스닥, S&P500 지수는 추세상승선을 이탈했으나 아직 이격이 커 단기 반등을 전망하기 어렵다. S&P500 지수 기준 지난 3월의 고점이었으며 50주 이동평균선이 지지할 4,600pt 정도를 단기 지지선으로 제시한다. 반면 KOSPI 지수는 과도할 정도로 하락해 상승 추세로의 회복은 아닐지라도 단기 반등을 기대해볼만 하다.\\n\\n미 증시는 정책대응이 나오거나 경기지표가 리세션 우려에 대한 안도감을 주어야 하락을 멈출 수 있을텐데 S&P500 지수는 8/5 장 마감 기준 YTD +8% 수준으로 이익구간이며 연준의 빠른 정책대응을 유도할 만큼 시장이 큰 폭 조정받았다고 하기는 어렵다. 경제지표는 더욱 악화되는지 재차 확인이 필요할 것으로 보이나, 지표가 더 악화되지 않는 점은 증시에 안도감을 줄 수 있는 반면 그만큼 연준의 빠른 대응을 기대하기는 어려워진다.\\n\\n미국에서 대선 전까지 정치 리더십이 부재한 것도 반등을 늦추는 한 원인이다. 바이든 현 대통령은 재선을 포기하고 마음이 편해졌으며 해리스 부통령은 현 상황에 대해 책임을 회피하려 할 것이다. 트럼프 전 대통령은 증시 폭락을 이전 정권의 탓으로 돌리며 비난하기 바쁠 것이며 11월 대선을 앞두고 연준 위원은 강력한 정책을 집행하기 부담스럽다. 9월 FOMC에서 연준의 전격 50bp 금리 인하 등이 진행된다면 증시 반등이 빨라질 것이나 가능성은 낮을 것으로 생각된다.\\n\\n변곡점은 11월 초 대선과 FOMC를 앞두고 10월 즈음 형성될 것으로 생각한다. 미국 증시는 가격 조정이 조금 더 겪을 수 있겠고, 한국 증시는 충분히 기간조정을 거친 시점일 것이다. 11월 FOMC에서 연속적인 금리 인하가 확실해지고 대통령 선거가 지나면서 정치 불확실성은 해소될 것이다. 3분기 기업 실적은 당장 악화되지는 않을 것이며 경제 리세션 여부는 그때까지도 판가름나기 어려울 것이다. 10월 이후의 변곡점을 기대해본다.\\n\\n그림11. 유동성 상황이 개선되든 경기지표가 반등하든 둘 중 하나는 나와줘야 증시가 다시 상승하게 될 것\\n\\n=\\n\\n그림12. 시장 급락, 지표 부진에 금리인하 기대감이 확대. 다시 연준위원 발언과 경제지표에 주목하게 될 것',\n",
       " '=\\n\\n그림12. 시장 급락, 지표 부진에 금리인하 기대감이 확대. 다시 연준위원 발언과 경제지표에 주목하게 될 것\\n\\n— i Za (A é Citi OB B7| MHetO|Z (Bh) @ SSH FS9Alt (Pf) 100 5 20 so} 15 60 4 10 40 4 05 20 4 0.0 o - H 20 | 4-05 40. -1.0 60 | 1415 23.07 23.10 24.01 24.04 24.07\\n\\n  \\n\\n자료: Bloomberg, 하이투자증권 리서치본부\\n\\n자료: CME, 하이투자증권 리서치본부\\n\\n6\\n\\nIY oHlEAS2t\\n\\n간판과 본질 – 뉴스와 가격과 펀더멘털 사이의 고민\\n\\n3-2. KOSPI 전략 – 전망보다는 대응\\n\\n당사에서는 올 하반기 증시를 다소 보수적으로 전망해 하반기 KOSPI 밴드는 2,550-2,850pt로 제시하였고 삼성전자 호실적 발표 이후 사후적으로 지수 상단을 2,950pt로 소폭 상향한 바 있다. 미국 경기와 AI 투자에 대한 과도한 낙관주의가 우려되는 상황에서 3,000pt 돌파는 어려울 것으로 생각했으며, 혹시나 모를 경기 하강 리스크를 우려해 하단은 2분기 저점인 2,550pt으로 넉넉하게 잡아두었다.\\n\\n보수적으로 제시했다고 생각했음에도 불구하고 증시는 지수 하단을 깨고 내려가 2,400pt에 다다랐다. 밸류에이션으로도 리세션을 가정한 여러 정황으로도 이번 하락은 과도했다고 판단되며, 특히 일본 닛케이 지수의 급락세에 영향받은 점이 컸다고 판단한다. 200pt 이상 하락한 것은 KOSPI 지수 사상 최초의 일이다. 단기 낙폭이 과도한 부분이 있으며 어느 정도는 단기간 내 반등할 수 있다고 판단해 지수 하단을 재조정하지 않고 일단 반등을 기다릴 예정이다.\\n\\n이제부터 국내 증시는 기간조정과 단기 반등 사이의 모습을 보일 것으로 전망한다. 현금에 여유가 있다면 매수 대응을 제안한다. 최소한 지수 하단으로 제시한 2,550pt 이하 수준에서는 짧게라도 매수 대응하는 것이 바람직하다는 판단이다. 2,550pt는 밸류에이션으로는 선행 12개월 이익 기준 P/E 8.4배에 해당하며, 8/5 종가인 2,440pt에서는 8배 수준으로 이는 2018년 말 미중무역분쟁 및 금리인상 텐트럼과 2020년 코로나 발발 시점과 같은 레벨이다. 미국 증시는 아직 밸류에이션 부담이 있지만 국내 증시는 저평가를 논해야 한다.\\n\\n반등 국면에서 수혜 업종은 바뀔 가능성이 높다. 기존까지의 주도주가 상승 논리를 잃었기 때문에 증시에 조정이 발생한 것이기도 하다. 미국 기술주 조정과 연관성 높은 반도체는 낙폭과대 단기 반등 정도로만 대응하고, 경기 하강 우려에 금리 인하 기대가 더욱 확대될 것인 만큼 금리인하 수혜주인 헬스케어, 건설 등이 상대적으로 나은 성과를 보일 것으로 전망한다.\\n\\n증시 변곡점은 미국 증시가 충분히 가격조정을 받은 이후 정책 대응, 정치 불확실성 해소, 경기하강 우려 완화 등을 확인하며 10월 이후에야 나타날 것으로 생각한다. KOSPI 지수는 먼저 큰 폭 조정받았지만 미 증시는 연준의 긴급 조치를 기다리기는 아직 조정이 크지 않다고 판단한다. 11월 초에는 미 대선, FOMC라는 굵직한 이벤트가 있으며 높아진 변동성이 다시 낮아지기에도 충분한 시간 간격이 있다. 올해 KOSPI 증시는 단기 반등, 이후의 기간조정, 10월 이후 반등의 궤적을 이어갈 것으로 전망하며, 내년 KOSPI 지수의 3,000pt 도전 가능성은 이후의 글로벌 경기 방향성과 미국의 금리인하 속도에 달려 있다고 판단한다.\\n\\n그림13. 선행 P/E는 8배 수준까지 급락.18년 말 미중무역분쟁 및 금리인상 텐트럼과 20년 코로나 발발 시점과 같은 레벨 그림14. KOSPI 지수는 단기 반등 후 기간조정을 거치다가 11월 미 대선과 FOMC를 앞두고 회복세를 보일 것으로 전망\\n\\n  \\n\\n(o) —— kosrl 2,900 - 2,800 | 2,700 ad - } J 2,600 Avda rey iy : i 2,500 + ‘ i i 2,400 ! | | | | 24.01 24.04 24.07 24.10 25.01 25.04\\n\\n자료: Quantiwise, 하이투자증권 리서치본부\\n\\n자료: Quantiwise, 하이투자증권 리서치본부\\n\\n7\\n\\nIY oHlEAS2t\\n\\n간판과 본질 – 뉴스와 가격과 펀더멘털 사이의 고민\\n\\nCompliance notice 당 보고서는 기관투자가 및 제 3자에게 E-mail등을 통하여 사전에 배포된 사실이 없습니다. 당 보고서에 게재된 내용들은 본인의 의견을 정확하게 반영하고 있으며, 외부의 부당한 압력이나 간섭 없이 작성되었음을 확인합니다. 본 분석자료는 투자자의 증권투자를 돕기 위한 참고자료이며, 따라서, 본 자료에 의한 투자자의 투자결과에 대해 어떠한 목적의 증빙자료로도 사용될 수 없으며, 어떠한 경우에도 작성자 및 당사의 허가 없이 전재, 복사 또는 대여될 수 없습니다. 무단전재 등으로 인한 분쟁발생시 법적 책임이 있음을 주지하시기 바랍니다.\\n\\n8']"
      ]
     },
     "execution_count": 72,
     "metadata": {},
     "output_type": "execute_result"
    }
   ],
   "source": [
    "texts_4k_token"
   ]
  },
  {
   "cell_type": "markdown",
   "id": "0aa7f52f-bf5c-4ba4-af72-b2ccba59a4cf",
   "metadata": {},
   "source": [
    "## 멀티 벡터 리트리버\n",
    "\n",
    "[멀티 벡터 리트리버](https://python.langchain.com/docs/modules/data_connection/retrievers/multi_vector#summary)를 사용하여 이미지(및/또는 텍스트, 표) 요약을 인덱싱하고, 원본 이미지(원본 텍스트 또는 표와 함께)를 검색합니다.\n",
    "\n",
    "### 텍스트 및 표 요약\n",
    "\n",
    "GPT-4 or llama3.1를 사용하여 표 및 선택적으로 텍스트 요약을 생성할 것입니다.\n",
    "\n",
    "큰 청크 크기(예: 위에서 설정한 4k 토큰 청크)를 사용하는 경우 텍스트 요약을 권장합니다.\n",
    "\n",
    "요약은 원본 표 및/또는 원본 텍스트 청크를 검색하는 데 사용됩니다."
   ]
  },
  {
   "cell_type": "code",
   "execution_count": 73,
   "id": "8a931132-fbe6-4523-a1f4-c656c732af60",
   "metadata": {},
   "outputs": [],
   "source": [
    "import os\n",
    "from dotenv import load_dotenv\n",
    "load_dotenv()\n",
    "openai_api_key = os.getenv(\"OPENAI_API_KEY\")\n",
    "\n",
    "if not openai_api_key:\n",
    "    raise ValueError(\"openai api 키가 없습니다. 한번더 확인 부탁드립니다.\")\n"
   ]
  },
  {
   "cell_type": "code",
   "execution_count": 74,
   "id": "523e6ed2-2132-4748-bdb7-db765f20648d",
   "metadata": {},
   "outputs": [],
   "source": [
    "from langchain_core.output_parsers import StrOutputParser\n",
    "from langchain_core.prompts import ChatPromptTemplate\n",
    "from langchain_openai import ChatOpenAI\n",
    "from langchain_ollama.llms import OllamaLLM\n",
    "\n",
    "# Generate summaries of text elements\n",
    "def generate_text_summaries(texts, tables, summarize_texts=False):\n",
    "    \"\"\"\n",
    "    텍스트 요소 요약 생성\n",
    "    texts: str 리스트\n",
    "    tables: str 리스트\n",
    "    summarize_texts: 텍스트 요약 여부를 나타내는 부울 값\n",
    "    \"\"\"\n",
    "\n",
    "    # Prompt\n",
    "    # prompt_text = \"\"\"You are an assistant tasked with summarizing tables and text for retrieval. \\\n",
    "    # These summaries will be embedded and used to retrieve the raw text or table elements. \\\n",
    "    # Give a concise summary of the table or text that is well optimized for retrieval. Table or text: {element} \"\"\"\n",
    "\n",
    "    prompt_text_kor = \"\"\"당신은 표와 텍스트를 요약하여 검색에 활용할 수 있도록 돕는 도우미입니다. \\n \n",
    "    이 요약본들은 임베딩되어 원본 텍스트나 표 요소를 검색하는 데 사용될 것입니다. \\n \n",
    "    주어진 표나 텍스트의 내용을 검색에 최적화된 간결한 요약으로 작성해 주세요. 요약할 표 또는 텍스트: {element}\"\"\"\n",
    "    \n",
    "    prompt = ChatPromptTemplate.from_template(prompt_text_kor)\n",
    "\n",
    "    # Text summary chain\n",
    "    # model = ChatOpenAI(temperature=0, model=\"gpt-4o-mini\")\n",
    "    llamaModel = OllamaLLM(model=\"llama3.1:8b\")\n",
    "    summarize_chain = {\"element\": lambda x: x} | prompt | llamaModel | StrOutputParser()\n",
    "\n",
    "    # Initialize empty summaries\n",
    "    text_summaries = []\n",
    "    table_summaries = []\n",
    "\n",
    "    # Apply to text if texts are provided and summarization is requested\n",
    "    if texts and summarize_texts:\n",
    "        text_summaries = summarize_chain.batch(texts, {\"max_concurrency\": 5})\n",
    "    elif texts:\n",
    "        text_summaries = texts\n",
    "\n",
    "    # Apply to tables if tables are provided\n",
    "    if tables:\n",
    "        table_summaries = summarize_chain.batch(tables, {\"max_concurrency\": 5})\n",
    "\n",
    "    return text_summaries, table_summaries\n",
    "\n",
    "\n",
    "# Get text, table summaries\n",
    "text_summaries, table_summaries = generate_text_summaries(\n",
    "    texts_4k_token, tables, summarize_texts=True\n",
    ")"
   ]
  },
  {
   "cell_type": "code",
   "execution_count": 75,
   "id": "8d2ef77a-74dc-4cbd-951f-786bc3d01c1c",
   "metadata": {},
   "outputs": [
    {
     "name": "stdout",
     "output_type": "stream",
     "text": [
      "['미국 경기 하강 가능성을 반영하지 못했다고 판단됩니다. 고금리의 영향에 따른 경기 하강이 나타났음에도 불구하고, AI 투자가 미국 경제의 호황을 이어갈 것이라는 낙관론이 과도했다고 생각합니다.', '이 글은 빅테크 기업의 AI Capex와 EPS 사이의 고민을 다룬 것 같습니다. Microsoft, Meta 등 주요 빅테크 소프트웨어 기업들이 실적 발표에서 AI Capex를 이어가겠다고 발표했으며, 반도체 주식은 안도하며 단기 반등을 만들어 냈습니다. 그러나 Capex 유지 가능성에 대한 의문은 계속되고 있으며, Alphabet은 AI로 인한 수익화는 아직 멀어보이고 투자는 부담이라 언급했습니다.\\n\\nMicrosoft의 이번 분기에 220억 달러의 순이익을 냈는데, Capex 지출로 순이익 전부에 육박하는 190억 달러를 지출했다고 합니다. 회사에서는 AI 경쟁을 위해 투자를 이어가고 있으나 Capex 규모는 상황이 악화되면 언제나 축소할 수 있다며 투자자들을 달랬습니다.\\n\\nCapex 지출 중 절반은 토지, 건물 등 장기간에 걸쳐 감가상각 비용을 인식하지만, 나머지 절반 가량은 GPU, CPU 등의 설비로 상대적으로 짧은 감가상각 연한을 가진다고 합니다. 이에 따르면 24년에 집행한 Capex로 인한 25년도 감가상각비 증가 규모는 60억 달러 내외로 추정됩니다.\\n\\nMicrosoft의 내년 매출 성장률 컨센서스는 약 +10%, 이익 성장률은 약 +15% 정도입니다. 경제에 큰 문제가 없다면 클라우드 매출 증가 등이 감가상각 비용을 상쇄하고 성장을 이끌겠으나, 경기 하강이 예상보다 빨라진다면 매출 성장이 둔화되며 이익 전망치를 달성하기 어렵게 될 것입니다.\\n\\n반도체 주식의 안동은 단기 반등을 만들 수 있지만, 경기 하강 가능성을 고려할 때 여전히 위험 요소가 있습니다. Alphabet에서 AI로 인한 수익화는 아직 멀어보이고 투자는 부담이라 언급한 바 있다면서, AI 투자의 장래에 대한 의문이 제기됩니다.\\n\\n이러한 고민은 미국 증시의 내년 이익에도 영향을 미칠 것입니다. 내년 나스닥 지수의 이익은 YoY +24% 성장, S&P500 지수의 이익은 약 +14%가량 성장할 것으로 집계되고 있으나 경기 하강 가능성을 고려하면 달성 여부에 의문이 제기됩니다.\\n\\n빅테크 소프트웨어 기업의 마진은 축소될 수 있으며 반도체와 빅테크 모두에게 좋은 결말을 예상하기는 어려워 보입니다.', '1.  \"주가와 펀더멘털 간의 차이\"라고 말하는 것은 너무 쉬운말이다.\\n2.  미국 증시는 이미 변곡점을 이탈했고, 한국 증시도 단기 반등은 가능성이 있다.\\n3.  미국 증시는 정책대응과 경기지표에 따라 움직일 것\\n4.  연준의 빠른 대응을 기대하기는 어려울 것이며, 시장 급락, 지표 부진에 금리 인하 기대감이 확대될 것이다. 다시 연준위원 발언과 경제지표에 주목하게 될 것', '내용을 요약해 보겠습니다. \\n\\n올 하반기 KOSPI 지수는 2,550-2,850pt로 제시되었다. 미국 경기와 AI 투자에 대한 과도한 낙관주의가 우려되는 상황에서 3,000pt 돌파는 어려울 것으로 생각했고 하단은 2분기 저점인 2,550pt으로 잡았다.\\n\\n그러나 증시는 지수 하단을 깨고 내려가 2,400pt에 다다랐다. 밸류에이션과 리세션의 정황으로도 이번 하락은 과도했다고 판단된다. 단기 낙폭이 과도한 부분이며 반등할 가능성이 있다.\\n\\n내년 KOSPI 지수의 3,000pt 도전 가능성은 이후의 글로벌 경기 방향성과 미국의 금리인하 속도에 달려있다고 판단된다.']\n"
     ]
    }
   ],
   "source": [
    "print(text_summaries)\n"
   ]
  },
  {
   "cell_type": "code",
   "execution_count": 76,
   "id": "6e3a45e7-4faf-4c10-be7c-14a66a00c085",
   "metadata": {},
   "outputs": [
    {
     "name": "stdout",
     "output_type": "stream",
     "text": [
      "[]\n"
     ]
    }
   ],
   "source": [
    "print(table_summaries)"
   ]
  },
  {
   "attachments": {},
   "cell_type": "markdown",
   "id": "b1feadda-8171-4aed-9a60-320a88dc9ee1",
   "metadata": {},
   "source": [
    "### GPT-4 Vision 및 LLaVA를 이용한 이미지 요약\n",
    "\n",
    "이 스크립트는 이미지를 base64 형식으로 인코딩하고 GPT-4 Vision 및 LLaVA 모델을 사용하여 간결한 요약을 생성합니다.\n",
    "\n",
    "#### 모듈 및 함수\n",
    "\n",
    "1. **임포트**\n",
    "    - `base64`, `os`, `requests`, `json`: 이미지를 인코딩하고 파일 작업을 처리하며 HTTP 요청을 수행하고 JSON 데이터를 처리합니다.\n",
    "    - `HumanMessage` from `langchain_core.messages`: 메시지 처리를 위해 사용됩니다.\n",
    "\n",
    "2. **함수 정의**\n",
    "    - `encode_image(image_path)`: 이미지 파일을 base64 문자열로 인코딩합니다.\n",
    "    - `image_summarize(img_base64, prompt)`: GPT-4 Vision을 사용하여 이미지 요약을 생성합니다.\n",
    "    - `image_summarize_llava(img_base64, prompt)`: LLaVA를 사용하여 이미지 요약을 생성합니다.\n",
    "\n",
    "3. **이미지 요약 프로세스**\n",
    "    - `generate_img_summaries(path)`: \n",
    "        - 지정된 디렉토리에서 이미지를 base64 문자열로 인코딩합니다.\n",
    "        - LLaVA를 사용하여 이미지 요약을 생성합니다.\n",
    "        - base64로 인코딩된 이미지와 해당 요약의 리스트를 반환합니다.\n",
    "        - 한국어 프롬프트(`prompt_kor`)와 영어 프롬프트(`prompt`)를 사용하여 요약을 생성합니다.\n",
    "\n",
    "4. **실행**\n",
    "    - 현재 작업 디렉토리를 가져옵니다.\n",
    "    - 'figures' 디렉토리의 경로를 설정합니다.\n",
    "    - 디렉토리 내 이미지에 대한 요약을 생성합니다.\n",
    "\n",
    "#### 코드 실행\n",
    "\n",
    "1. `encode_image`를 사용하여 이미지 파일을 base64 형식으로 인코딩합니다.\n",
    "2. `image_summarize` 및 `image_summarize_llava`를 사용하여 요약을 생성합니다.\n",
    "3. base64로 인코딩된 이미지와 해당 요약을 저장합니다.\n",
    "4. 'figures' 디렉토리의 경로를 출력하고 해당 디렉토리의 이미지에 대한 요약을 생성합니다."
   ]
  },
  {
   "cell_type": "code",
   "execution_count": 77,
   "id": "9e6b1d97-4245-45ac-95ba-9bc1cfd10182",
   "metadata": {},
   "outputs": [
    {
     "name": "stdout",
     "output_type": "stream",
     "text": [
      "/Users/usermackbookpro/langchain-python/langchain-jupyter/cj/\n",
      "/Users/usermackbookpro/langchain-python/langchain-jupyter/figures\n",
      "Status Code:  200\n",
      " 한글로 요약하기는 어렵습니다. 이미지에 있는 한글과 같은 내용을 텍스트로 추가할 수 있으면, 더 자세한 설명이 가능합니다. \n",
      "Status Code:  200\n",
      " 이미지는 \"M1M\" 라는 글자가 있는 로고입니다. 로고에서 \"M1M\"은 파란색으로 작게 표시되며, 위쪽에서 큰 삼각형과 같은 구문으로 굴쳐져 있는 문자입니다. 이미지의 배경 색상은 컬러 그림자로 표시되어 있습니다. \n",
      "Status Code:  200\n",
      " 한글은 이미지에 포함된 내용을 간결하고 검색에 최적화된 형태로 작성합니다.\n",
      "\n",
      "이 이미지는 대한민국과 베르그 간의 산업 통제 위원회(WTO)의 통합 산업 내역을 표시하고 있습니다. 한글은 이러한 정보를 간결하게 요약하여 검색에 최적화된 형태로 작성합니다.\n",
      "\n",
      "이미지는 \"Bloomberg\"라는 기관의 데이터를 기반으로 산업 내역을 표시합니다. 이러한 통합 산업 내역은 2023년에 대한민국과 베르그 간의 산업 생산량을 요약한 것으로 보입니다.\n",
      "\n",
      "또한, 이미지에는 \"전력\"이라는 서브제기(Sub-chart)가 포함되어 있습니다. 이 서브je기는 전력 생산량을 나타내고 있습니다.\n",
      "\n",
      "이 정보를 간결하게 요약한 후, 이미지에 대해 \"국제적인 산업 통제 위원회(WTO)\"라는 제목으로 설명합니다.\n",
      "\n",
      "이와 같은 최적화된 한글 요약은 검색 엔진의 자동 정보 추출기(AutoML)에서 일어나며, 인식하는 시스템에서 재사용되어 저장될 수 있습니다. 이러한 최적화된 요약은 검색 결과에 자동으로 추가될 수 있습니다. \n",
      "Status Code:  200\n",
      " The image appears to be a screenshot of a financial chart, showing the performance or movement of a stock or index over time. It is a graphical representation of data points plotted on an x-axis (time) and y-axis (value). The chart includes lines representing different metrics or time frames, such as 한국의 기업(KOSPI), which suggests it is tracking the performance of Korean companies. There are annotations like \"2000년\" (2000 year) indicating a specific period of data being represented. Additionally, there are horizontal lines with labels like \"3000원(원자리)\" (3000 won / unit) which might be related to monetary values or exchange rates. The chart is in color and seems to provide information about the market fluctuations over a given timeframe. \n",
      "Status Code:  200\n",
      " 어쿠리스트. 이미지는 한국어 및 \"위협 정책\"과 같은 문구가 있는 배너를 포함하고 있습니다. \n",
      "Status Code:  200\n",
      " 이미지는 한국에서 일어난 경제적 시설로 인해 발생된 가격증가(COPI)를 나타내고 있습니다. COPI는 가격증가의 원인으로, 자국산에서 생산되는 일부 상품의 가격을 바탕으로 계산됩니다.\n",
      "\n",
      "이미지에서는 가격증가가 빨리 올라가고 있는 것을 보여줍니다. COPI가 2023년 1월부터 2024년 1월까지 21.8%로 오른경니다.\n",
      "\n",
      "또한, COPI의 제조비용(CPI)이 낮아지는 동시에 일어난 것을 보여줍니다. CPI는 가격증가와 함께 생산에 사용되는 원재료의 가격을 바탕으로 계산됩니다.\n",
      "\n",
      "이미지에서는 COPI와 CPI의 그래프가 한 자리에 나타내져 있습니다. COPI와 CPI 모두 2023년에 빨리 증가하고 있는 것을 확인할 수 있습니다.\n",
      "\n",
      "이미지에서 표시된 데이터는 자국산의 상품 생산비용과 기업들의 제조비용으로, 가격증가와 함께 생산비용도 높아지고 있는 것을 보여줍니다.\n",
      "\n",
      "따라서 이미지에서는 일반적인 경제적 시설로 인해 일어난 가격증가(COPI)와 함께 생산비용(CPI)의 그래프가 한 자리에 나타내져 있습니다. COPI와 CPI 모두 2023년에 빨리 증가하고 있는 것을 확인할 수 있습니다. \n",
      "Status Code:  200\n",
      " 한국어 자료 제목: \"12월 ~ 24월 정부 인구 등록률\"\n",
      "\n",
      "이미지에는 중국의 서울(서울시) 지역에서 2023년 12월부터 24월까지 인구 등록률 그래프가 포함되어 있습니다.\n",
      "\n",
      "그래프는 오른쪽으로 움직이며, 그 중간에 두 개의 눈은 각각 12월과 24월에서 정부가 인구를 등록하는 기술을 적용한 것으로 보입니다.\n",
      "\n",
      "이미지의 제목은 \"12월 ~ 24월 정부 인구 등록률\"이며, 그래프에서 2개의 장벽선을 긋는 점선과 실선으로 표시되어 있습니다. 실선은 정부가 인구를 등록하는 기술을 적용한 것을 나타내고, 장벽선은 미래의 예측치로, 정부가 이를 추정한 것으로 보입니다.\n",
      "\n",
      "이미지는 기술적인 분석과 통계적인 데이터를 담고 있는 전공적 자료로 간주됩니다. 이를 사용하여 정부가 인구 등록률에 대한 기술적 접근을 제시할 수 있습니다. \n",
      "Status Code:  200\n",
      " 서울시 중구 교통센터\n",
      "1. G20 OECD 한국에서 이미지를 불러와봅니다.\n",
      "2. 한우는 2023년 3월 9일까지의 날짜가 있습니다.\n",
      "3. 이미지에는 한국에서 이용된 OECD 센터의 교통센터를 보여주는 것으로 생각됩니다.\n",
      "4. 그림에는 한우머지 및 그래프가 있습니다.\n",
      "5. 이미지에서는 한국의 교통센터를 보여주는 것으로 나타내집니다.\n",
      "6. G20 OECD 관련 데이터 및 그래프가 있습니다.\n",
      "7. 이미지에서는 한우머지와 센터의 교통 관련된 정보가 제공됩니다.\n",
      "8. 이 이미지는 한국의 OECD 중앙 지역의 교통센터를 보여주고, 그리고 2023년 3월 9일까지의 G20과 OECD와 관련된 정보를 제공합니다.\n",
      "\n",
      "이미지는 한우가 제공하는 데이터와 함께 교통센터에서 이동할 수 있는 시설을 보여주는 것으로 간주됩니다. \n",
      "Status Code:  200\n",
      " The image appears to be a screenshot of a computer monitor displaying a webpage or an application with Korean text. The text is too small and blurry for me to transcribe accurately, but it includes what seems to be the name \"허빙\" at the top left corner. Below this, there are logos, icons, and additional text which is not clearly legible due to the low resolution. The color palette of the image consists mainly of grayscale tones with some hints of blue in the logos. The overall style suggests a user interface, possibly related to finance or technology given the context provided by the names on the page. \n",
      "Status Code:  200\n",
      " 제작자가 요청한 이미지에서는 주택 판매량을 의미하는 그래프입니다. 이미지는 한국어를 써들며, 일시적으로 \"12개의 TTM 중에서 가장 큰 증가율\"을 보여주고 있습니다. 그래프에서는 주택 판매량이 28월로 빠르게 올라가고 있으며, 그중 12개의 TTM(투레이스 트렌) 중에서 \"12개\"를 가진 주택이 가장 큰 증대율을 보여주고 있습니다.\n",
      "\n",
      "기간별로 주택 판매량은 최근에는 매우 빠르게 증가하고 있으며, 그중 \"12개\"를 가진 TTM(투레이스 트렌) 중에서 가장 큰 증대율을 보여주는 것으로 나타내지만, 전체적인 추세나 다른 주택 판매량의 경향에 대한 정보는 이미지에서 확인할 수 없습니다. \n",
      "Status Code:  200\n",
      " The image appears to be a screenshot from a computer interface displaying text in Korean, with the visible portion of the screen showing the title \"투윤스 팀\" followed by some additional text that is not fully visible. The design suggests a user-friendly application or webpage with a clean and modern layout. \n",
      "Status Code:  200\n",
      " 이 이미지는 한국어 대표를 포함하며, 그림은 사람들의 생활 수준을 나타내는 데이터입니다. \n",
      "Status Code:  200\n",
      " 서울에서 주요한 기업들이 인수 및 사고를 위한 비즈니스 투케팅을 통해 성장하고 있다는 뉴스입니다. 이러한 비즈니스 투케팅에 따라 주목할 수는 2019년 3,843억원에서 2020년까지 5,363억원으로 증가했습니다. 또한 이 기업들의 전자상거래 사업에서 인구비율 기록은 약간 낮아졌습니다. \n",
      "Status Code:  200\n",
      " 안녕하세요!\n",
      "\n",
      "이 이미지는 한국의 공공기관(대표적으로 도로교통청)에서 사용되는 웹 페이지를 나타내고 있습니다. 웹 페이지에는 여러 정보와 기능이 있는 것으로 봅니다.\n",
      "\n",
      "1. 홈페이지의 공통적인 구성 요소:\n",
      "   - 전체적으로 웹 페이지의 배경은 회색 또는 그림자가 있는 멀티폰(흑색, 흙색)입니다.\n",
      "   - 페이지에는 많은 텍스트가 포함되어 있습니다.\n",
      "   - 위쪽 왼쪽에는 \"한국정부\"라는 텍스트가 있으며, 그 아래로는 \"도로교통청\"이라는 텍스트가 나타나요.\n",
      "   - 페이지의 전체적인 디자인은 간단하고 함께 사용되어야 할 공공기관의 웹 페이지로 보입니다.\n",
      "\n",
      "2. 특정한 기능이나 정보가 있는지:\n",
      "   - 아래쪽에 \"새로운 창구 열기\"라는 버튼과 같은 기능을 찾아볼 수 있습니다.\n",
      "   - 페이지 상단에는 \"한국정부\"의 로고가 포함되어 있으며, 그 아래로는 \"도로교통청\"의 로고가 있습니다.\n",
      "   - 웹 페이지에는 텍스트 및 링크가 나타나요.\n",
      "\n",
      "3. 해당 이미지를 찾기 위한 딜프레싱:\n",
      "   - 공용기관의 웹 페이지에서 \"도로교통청\"과 같은 정보가 포함된 것으로 봅니다.\n",
      "   - 한국정부의 웹 페이지에서 \"새로운 창구 열기\"와 같은 버튼을 찾아볼 수 있습니다.\n",
      "   - 전체적인 디자인은 간단하고, 공용기관과 관련된 웹 페이지로 보입니다.\n",
      "\n",
      "따라서, 한글로 요약해볼 수 있는 내용은:\n",
      "- \"한국정부\"와 \"도로교통청\"의 웹 페이지\n",
      "- \"새로운 창구 열기\" 버튼과 같은 기능\n",
      "- 간단한 디자인\n",
      "\n",
      "이를 한글로 요약하면:\n",
      "\"한국정부\"와 \"도로교통청\"의 웹페이지, \"새로운 창구 열기\" 버튼과 같은 기능 및 간단한 디자인. \n",
      "Status Code:  200\n",
      " 저는 이미지를 간단한 텍스트로 요약해드리겠습니다.\n",
      "\n",
      "\"국민은 전 세계에서 자신들이 가장 많은 재정 기업입니다. 그러나 금융 문제는 국민을 위협하며, 이를 해결할 수 있는 방법이 필요합니다.\"\n",
      "\n",
      "잠재적인 검색어: \"JPMorgan\", \"Kolanoivo\", \"exit amid string of poor calls\", \"Lakos\", \"Hussain Aliyu\", \"Goldman Sachs\", \"Citigroup\", \"Cash\", \"JPMorgan stock price graph\", \"golden passport scandal\", \"investment bank scandals\", \"corruption in finance industry\", \"reform in financial sector\", \"JPMorgan's global research\", \"stock market analysis\", \"JPMorgan CEO Jamie Dimon\". \n",
      "Status Code:  200\n",
      " 한글을 작성하기 어려운 점 컴퓨터로 이미지를 검색하여 원본을 재생성할 수 있습니다. \n",
      "Status Code:  200\n",
      " 이미지는 한국어 대표를 가진 캐릭터와 같은 색상으로 배경과 일정을 나타내고 있습니다. \n",
      "Status Code:  200\n",
      " 한글로는, \"씨씨씨씨씨씨\" \n",
      "Status Code:  200\n",
      " 한글: 이상 \n",
      "Status Code:  200\n",
      " The image shows a portion of text in Korean, which appears to be part of a larger document or sign. The text is too small and blurred to read clearly, but it seems to be written in a formal font typically used for official notices or informational signs. Below the text, there's a logo consisting of stylized shapes that could represent an organization or company, although the specific design or symbolism is not legible due to the resolution and angle of the photo. The background is nondescript with no distinct features that can be confidently described. \n",
      "Status Code:  200\n",
      " 자동화된 상황:\n",
      "\n",
      "이미지에는 \"한국경제통계연구원\"과 \"기업연간신고금액\"이라는 데이터가 있으며, \"농산업철력\"의 값은 1200원 이상입니다. 또한 \"산업통계연구원\"에서 \"기업연간신고금액\"의 값은 1500원 이하입니다. 그러나 이미지는 한국경제통계연구원과 산업통계연구원에서 기업연간신고금액을 가장 높이 보여지는 이미지입니다. \n",
      "Status Code:  200\n",
      " 한글이 있는 그래픽입니다.\n",
      "한글로 간단한 설명은 \"KOSP\"라고 합니다.\n",
      "추가적인 설명을 위해 더 자세한 정보나 구체적인 요청이 필요하면 알려주시면 됩니다. \n",
      "Status Code:  200\n",
      " 한글로 요약된 이미지는 다음과 같습니다.\n",
      "\n",
      "\"한국어 캐러 긴 텍스트가 있고, 그중에서 \"아름다운 소셜 미디어 컨설팅 주문사\"라는 긴 텍스트가 있습니다. 이미지는 캐러 이미지를 담고 있으며, 그림에서는 \"아름다운 소셜 미디어 컨설팅 주문사\"라는 텍스트가 붙어 있습니다. \n"
     ]
    }
   ],
   "source": [
    "import base64\n",
    "import os\n",
    "import requests\n",
    "import json\n",
    "from langchain_core.messages import HumanMessage\n",
    "\n",
    "\n",
    "def encode_image(image_path):\n",
    "    \"\"\"Getting the base64 string\"\"\"\n",
    "    with open(image_path, \"rb\") as image_file:\n",
    "        return base64.b64encode(image_file.read()).decode(\"utf-8\")\n",
    "\n",
    "\n",
    "def image_summarize(img_base64, prompt):\n",
    "    \"\"\"Make image summary\"\"\"\n",
    "    chat = ChatOpenAI(model=\"gpt-4-vision-preview\", max_tokens=1024)\n",
    "    # chat = OllamaLLM(model=\"llava:7b\")\n",
    "\n",
    "    msg = chat.invoke(\n",
    "        [\n",
    "            HumanMessage(\n",
    "                content=[\n",
    "                    {\"type\": \"text\", \"text\": prompt},\n",
    "                    {\n",
    "                        \"type\": \"image_url\",\n",
    "                        \"image_url\": {\"url\": f\"data:image/jpeg;base64,{img_base64}\"},\n",
    "                    },\n",
    "                ]\n",
    "            )\n",
    "        ]\n",
    "    )\n",
    "    print(msg)\n",
    "    return msg.content\n",
    "    \n",
    "def image_summarize_llava(img_base64, prompt):\n",
    "    \"\"\"Make image summary using LLaVA\"\"\"\n",
    "    payload = {\n",
    "        \"model\": \"llava:7b\",\n",
    "        \"prompt\": prompt,\n",
    "        \"images\": [img_base64]\n",
    "    }\n",
    "\n",
    "    response = requests.post(\n",
    "        \"http://localhost:11434/api/generate\", json=payload)\n",
    "\n",
    "    # print(\"Response: \", response)\n",
    "    print(\"Status Code: \", response.status_code)\n",
    "    # print(\"Headers: \", response.headers)\n",
    "    # print(\"Content: \", response.content)\n",
    "\n",
    "    if response.status_code == 200:\n",
    "        try:\n",
    "            # 응답을 줄 단위로 처리\n",
    "            full_response = \"\"\n",
    "            for line in response.iter_lines():\n",
    "                if line:\n",
    "                    json_line = json.loads(line)\n",
    "                    if 'response' in json_line:\n",
    "                        full_response += json_line['response']\n",
    "            print(full_response)\n",
    "            return full_response\n",
    "        except json.JSONDecodeError as e:\n",
    "            return f\"JSON 파싱 오류: {str(e)}\\n응답 내용: {response.text}\"\n",
    "    else:\n",
    "        return f\"Error: {response.status_code}, {response.text}\"\n",
    "\n",
    "\n",
    "def generate_img_summaries(path):\n",
    "    \"\"\"\n",
    "    Generate summaries and base64 encoded strings for images\n",
    "    path: Path to list of .jpg files extracted by Unstructured\n",
    "    \"\"\"\n",
    "\n",
    "    # Store base64 encoded images\n",
    "    img_base64_list = []\n",
    "\n",
    "    # Store image summaries\n",
    "    image_summaries = []\n",
    "\n",
    "    # Prompt_kor 한국어\n",
    "    prompt_kor = \"\"\"You are an assistant tasked with summarizing images for retrieval. \n",
    "    These summaries will be embedded and used to retrieve the raw image. Provide a concise summary of the image that is well optimized for retrieval. \n",
    "    The summary should be written in Korean (Hangul).\"\"\"\n",
    "\n",
    "    # Prompt\n",
    "    prompt = \"\"\"You are an assistant tasked with summarizing images for retrieval. \n",
    "    These summaries will be embedded and used to retrieve the raw image. Provide a concise summary of the image that is well optimized for retrieval. \"\"\"\n",
    "\n",
    "\n",
    "    # Apply to images\n",
    "    for img_file in sorted(os.listdir(path)):\n",
    "        if img_file.endswith((\".jpg\",\".png\",\".jpeg\")):\n",
    "            img_path = os.path.join(path, img_file)\n",
    "            base64_image = encode_image(img_path)\n",
    "            img_base64_list.append(base64_image)\n",
    "            image_summaries.append(image_summarize_llava(base64_image, prompt_kor))\n",
    "\n",
    "    return img_base64_list, image_summaries\n",
    "\n",
    "print(fpath)\n",
    "\n",
    "# 현재 작업 디렉토리 경로를 찾습니다.\n",
    "current_directory = os.getcwd()\n",
    "\n",
    "# 'langchain-jupyter' 디렉토리를 기준으로 'figures' 폴더 경로를 설정합니다.\n",
    "# os.path.dirname를 사용하여 부모 디렉토리를 찾습니다.\n",
    "figures_directory = os.path.join(current_directory, \"figures\")\n",
    "\n",
    "print(figures_directory)\n",
    "\n",
    "\n",
    "\n",
    "# Image summaries\n",
    "# img_base64_list, image_summaries = generate_img_summaries(fpath)\n",
    "img_base64_list, image_summaries = generate_img_summaries(figures_directory)"
   ]
  },
  {
   "cell_type": "code",
   "execution_count": 78,
   "id": "fb9e5392-8c84-441b-ad55-f3da01c10575",
   "metadata": {},
   "outputs": [
    {
     "data": {
      "text/plain": [
       "' 이미지는 \"M1M\" 라는 글자가 있는 로고입니다. 로고에서 \"M1M\"은 파란색으로 작게 표시되며, 위쪽에서 큰 삼각형과 같은 구문으로 굴쳐져 있는 문자입니다. 이미지의 배경 색상은 컬러 그림자로 표시되어 있습니다. '"
      ]
     },
     "execution_count": 78,
     "metadata": {},
     "output_type": "execute_result"
    }
   ],
   "source": [
    "# len(img_base64_list)\n",
    "len(image_summaries)\n",
    "image_summaries[1]"
   ]
  },
  {
   "cell_type": "markdown",
   "id": "67b030d4-2ac5-41b6-9245-fc3ba5771d87",
   "metadata": {},
   "source": [
    "### 다중 벡터 검색기 생성 및 사용\n",
    "\n",
    "이 스크립트는 다중 벡터 검색기를 생성하여 텍스트, 표, 이미지 요약을 색인화하고 원본 이미지를 반환합니다.\n",
    "\n",
    "#### 모듈 및 함수\n",
    "\n",
    "1. **임포트**\n",
    "    - `uuid`를 사용하여 고유 식별자를 생성합니다.\n",
    "    - `MultiVectorRetriever`, `InMemoryStore`, `Chroma`, `Document`, `OpenAIEmbeddings`, `OpenCLIPEmbeddings`를 사용하여 검색기 및 벡터 저장소를 설정합니다.\n",
    "\n",
    "2. **함수 정의**\n",
    "    - `create_multi_vector_retriever(vectorstore, text_summaries, texts, table_summaries, tables, image_summaries, images)`: \n",
    "        - 요약을 색인화하고 원본 이미지를 반환하는 검색기를 생성합니다.\n",
    "        - InMemoryStore를 초기화하고, MultiVectorRetriever를 생성합니다.\n",
    "        - 도큐먼트를 벡터 저장소와 도큐먼트 저장소에 추가하는 헬퍼 함수를 정의합니다.\n",
    "        - 텍스트, 표, 이미지 요약을 추가합니다.\n",
    "\n",
    "3. **코드 실행**\n",
    "\n",
    "1. **임포트 및 초기 설정**\n",
    "    - 필요한 모듈 및 함수를 임포트합니다.\n",
    "    - `OpenCLIPEmbeddings`를 사용하여 임베딩을 초기화합니다.\n",
    "    - `Chroma` 벡터 저장소를 설정합니다.\n",
    "\n",
    "2. **검색기 생성**\n",
    "    - `create_multi_vector_retriever` 함수를 호출하여 다중 벡터 검색기를 생성합니다.\n",
    "    - 텍스트, 표, 이미지 요약을 추가합니다."
   ]
  },
  {
   "cell_type": "code",
   "execution_count": 79,
   "id": "24a0a289-b970-49fe-b04f-5d857a4c159b",
   "metadata": {},
   "outputs": [],
   "source": [
    "import uuid\n",
    "\n",
    "from langchain.retrievers.multi_vector import MultiVectorRetriever\n",
    "from langchain.storage import InMemoryStore\n",
    "from langchain_chroma.vectorstores import Chroma\n",
    "from langchain_core.documents import Document\n",
    "from langchain_openai import OpenAIEmbeddings\n",
    "from langchain_experimental.open_clip import OpenCLIPEmbeddings\n",
    "\n",
    "\n",
    "def create_multi_vector_retriever(\n",
    "    vectorstore, text_summaries, texts, table_summaries, tables, image_summaries, images\n",
    "):\n",
    "    \"\"\"\n",
    "    Create retriever that indexes summaries, but returns raw images or texts\n",
    "    \"\"\"\n",
    "\n",
    "    # Initialize the storage layer\n",
    "    store = InMemoryStore()\n",
    "    id_key = \"doc_id\"\n",
    "\n",
    "    # Create the multi-vector retriever\n",
    "    retriever = MultiVectorRetriever(\n",
    "        vectorstore=vectorstore,\n",
    "        docstore=store,\n",
    "        id_key=id_key,\n",
    "    )\n",
    "\n",
    "    # Helper function to add documents to the vectorstore and docstore\n",
    "    def add_documents(retriever, doc_summaries, doc_contents):\n",
    "        doc_ids = [str(uuid.uuid4()) for _ in doc_contents]\n",
    "        summary_docs = [\n",
    "            Document(page_content=s, metadata={id_key: doc_ids[i]})\n",
    "            for i, s in enumerate(doc_summaries)\n",
    "        ]\n",
    "        retriever.vectorstore.add_documents(summary_docs)\n",
    "        retriever.docstore.mset(list(zip(doc_ids, doc_contents)))\n",
    "\n",
    "    # Add texts, tables, and images\n",
    "    # Check that text_summaries is not empty before adding\n",
    "    if text_summaries:\n",
    "        add_documents(retriever, text_summaries, texts)\n",
    "    # Check that table_summaries is not empty before adding\n",
    "    if table_summaries:\n",
    "        add_documents(retriever, table_summaries, tables)\n",
    "    # Check that image_summaries is not empty before adding\n",
    "    if image_summaries:\n",
    "        add_documents(retriever, image_summaries, images)\n",
    "\n",
    "    return retriever\n",
    "    \n",
    "# embedding = OpenCLIPEmbeddings(model_name=\"ViT-L-14\", checkpoint=\"openai\")\n",
    "embedding = OpenCLIPEmbeddings()\n",
    "\n",
    "# The vectorstore to use to index the summaries\n",
    "vectorstore = Chroma(\n",
    "    # collection_name=\"mm_rag_cj_blog\", embedding_function=OpenAIEmbeddings()\n",
    "    collection_name=\"mm_rag_finace\", embedding_function=embedding\n",
    ")\n",
    "\n",
    "# Create retriever\n",
    "retriever_multi_vector_img = create_multi_vector_retriever(\n",
    "    vectorstore,\n",
    "    text_summaries,\n",
    "    texts,\n",
    "    table_summaries,\n",
    "    tables,\n",
    "    image_summaries,\n",
    "    img_base64_list,\n",
    ")"
   ]
  },
  {
   "cell_type": "code",
   "execution_count": 81,
   "id": "1731cd1d-1cb8-4e6b-88d5-96f03635b890",
   "metadata": {
    "scrolled": true
   },
   "outputs": [
    {
     "data": {
      "text/plain": [
       "'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'"
      ]
     },
     "execution_count": 81,
     "metadata": {},
     "output_type": "execute_result"
    }
   ],
   "source": [
    "img_base64_list[0]"
   ]
  },
  {
   "cell_type": "markdown",
   "id": "69060724-e390-4dda-8250-5f86025c874a",
   "metadata": {},
   "source": [
    "### 다중 모달 RAG 체인 생성 및 사용\n",
    "\n",
    "이 스크립트는 다중 모달 RAG(Retrieval-Augmented Generation) 체인을 생성하여 텍스트, 표, 이미지 데이터를 처리하고, 한국어로 투자 조언을 제공합니다.\n",
    "\n",
    "#### 모듈 및 함수\n",
    "\n",
    "1. **임포트**\n",
    "    - `io`, `re`, `IPython.display`, `langchain_core.runnables`, `langchain.prompts`, `PIL.Image`: 다양한 모듈을 사용하여 이미지 처리, 데이터 처리, 디스플레이, 체인 생성 등을 수행합니다.\n",
    "\n",
    "2. **함수 정의**\n",
    "    - `plt_img_base64(img_base64)`: Base64 인코딩된 문자열을 이미지로 표시합니다.\n",
    "    - `looks_like_base64(sb)`: 문자열이 Base64 형식인지 확인합니다.\n",
    "    - `is_image_data(b64data)`: Base64 데이터가 이미지인지 확인합니다.\n",
    "    - `resize_base64_image(base64_string, size=(128, 128))`: Base64 형식의 이미지를 리사이즈합니다.\n",
    "    - `split_image_text_types(docs)`: Base64로 인코딩된 이미지와 텍스트를 분리합니다.\n",
    "    - `img_prompt_func(data_dict)`: 주어진 데이터 딕셔너리로부터 메시지를 생성합니다.\n",
    "    - `multi_modal_rag_chain(retriever)`: 다중 모달 RAG 체인을 생성합니다.\n",
    "    - `korean_convert_rag()`: 영어 텍스트를 한국어로 변환하는 RAG 체인을 생성합니다.\n",
    "\n",
    "3. **코드 실행**\n",
    "\n",
    "1. **임포트 및 초기 설정**\n",
    "    - 필요한 모듈 및 함수를 임포트합니다.\n",
    "\n",
    "2. **이미지 처리 및 변환**\n",
    "    - Base64 인코딩된 이미지를 처리하고 표시합니다.\n",
    "    - 문자열이 Base64 형식인지, Base64 데이터가 이미지인지 확인합니다.\n",
    "    - 이미지를 리사이즈합니다.\n",
    "    - Base64로 인코딩된 이미지와 텍스트를 분리합니다.\n",
    "\n",
    "3. **메시지 생성**\n",
    "    - 주어진 데이터 딕셔너리로부터 메시지를 생성합니다.\n",
    "    - 투자 분석을 위한 프롬프트 메시지를 구성합니다.\n",
    "\n",
    "4. **RAG 체인 생성**\n",
    "    - 다중 모달 RAG 체인을 생성합니다.\n",
    "    - 영어 텍스트를 한국어로 변환하는 RAG 체인을 생성합니다.\n",
    "    - 다중 모달 RAG 체인과 한국어 변환 RAG 체인을 결합합니다."
   ]
  },
  {
   "cell_type": "code",
   "execution_count": 82,
   "id": "771a47fa-1267-4db8-a6ae-5fde48bbc069",
   "metadata": {},
   "outputs": [],
   "source": [
    "import io\n",
    "import re\n",
    "\n",
    "from IPython.display import HTML, display\n",
    "from langchain_core.runnables import RunnableLambda, RunnablePassthrough\n",
    "from langchain.prompts import ChatPromptTemplate\n",
    "from PIL import Image\n",
    "\n",
    "\n",
    "def plt_img_base64(img_base64):\n",
    "    \"\"\"Disply base64 encoded string as image\"\"\"\n",
    "    # Create an HTML img tag with the base64 string as the source\n",
    "    image_html = f'<img src=\"data:image/jpeg;base64,{img_base64}\" />'\n",
    "    # Display the image by rendering the HTML\n",
    "    display(HTML(image_html))\n",
    "\n",
    "\n",
    "def looks_like_base64(sb):\n",
    "    \"\"\"Check if the string looks like base64\"\"\"\n",
    "    return re.match(\"^[A-Za-z0-9+/]+[=]{0,2}$\", sb) is not None\n",
    "\n",
    "\n",
    "def is_image_data(b64data):\n",
    "    \"\"\"\n",
    "    Check if the base64 data is an image by looking at the start of the data\n",
    "    \"\"\"\n",
    "    image_signatures = {\n",
    "        b\"\\xff\\xd8\\xff\": \"jpg\",\n",
    "        b\"\\x89\\x50\\x4e\\x47\\x0d\\x0a\\x1a\\x0a\": \"png\",\n",
    "        b\"\\x47\\x49\\x46\\x38\": \"gif\",\n",
    "        b\"\\x52\\x49\\x46\\x46\": \"webp\",\n",
    "    }\n",
    "    try:\n",
    "        header = base64.b64decode(b64data)[:8]  # Decode and get the first 8 bytes\n",
    "        for sig, format in image_signatures.items():\n",
    "            if header.startswith(sig):\n",
    "                return True\n",
    "        return False\n",
    "    except Exception:\n",
    "        return False\n",
    "\n",
    "\n",
    "def resize_base64_image(base64_string, size=(128, 128)):\n",
    "    \"\"\"\n",
    "    Resize an image encoded as a Base64 string\n",
    "    \"\"\"\n",
    "    # Decode the Base64 string\n",
    "    img_data = base64.b64decode(base64_string)\n",
    "    img = Image.open(io.BytesIO(img_data))\n",
    "\n",
    "    # Resize the image\n",
    "    resized_img = img.resize(size, Image.LANCZOS)\n",
    "\n",
    "    # Save the resized image to a bytes buffer\n",
    "    buffered = io.BytesIO()\n",
    "    resized_img.save(buffered, format=img.format)\n",
    "\n",
    "    # Encode the resized image to Base64\n",
    "    return base64.b64encode(buffered.getvalue()).decode(\"utf-8\")\n",
    "\n",
    "\n",
    "def split_image_text_types(docs):\n",
    "    \"\"\"\n",
    "    Split base64-encoded images and texts\n",
    "    \"\"\"\n",
    "    b64_images = []\n",
    "    texts = []\n",
    "    for doc in docs:\n",
    "        # Check if the document is of type Document and extract page_content if so\n",
    "        if isinstance(doc, Document):\n",
    "            doc = doc.page_content\n",
    "        if looks_like_base64(doc) and is_image_data(doc):\n",
    "            doc = resize_base64_image(doc, size=(1300, 600))\n",
    "            b64_images.append(doc)\n",
    "        else:\n",
    "            texts.append(doc)\n",
    "    return {\"images\": b64_images, \"texts\": texts}\n",
    "\n",
    "\n",
    "def img_prompt_func(data_dict):\n",
    "    \"\"\"\n",
    "    Join the context into a single string\n",
    "    \"\"\"\n",
    "    formatted_texts = \"\\n\".join(data_dict[\"context\"][\"texts\"])\n",
    "    messages = []\n",
    "\n",
    "    # Adding image(s) to the messages if present\n",
    "    if data_dict[\"context\"][\"images\"]:\n",
    "        for image in data_dict[\"context\"][\"images\"]:\n",
    "            image_message = {\n",
    "                \"type\": \"image_url\",\n",
    "                \"image_url\": {\"url\": f\"data:image/jpeg;base64,{image}\"},\n",
    "            }\n",
    "            messages.append(image_message)\n",
    "\n",
    "    # Adding the text for analysis\n",
    "    text_message = {\n",
    "        \"type\": \"text\",\n",
    "        \"text\": (\n",
    "            \"You are financial analyst tasking with providing investment advice.\\n\"\n",
    "            \"You will be given a mixed of text, tables, and image(s) usually of charts or graphs.\\n\"\n",
    "            \"Use this information to provide investment advice related to the user question. \\n\"\n",
    "            f\"User-provided question: {data_dict['question']}\\n\\n\"\n",
    "            \"Text and / or tables:\\n\"\n",
    "            f\"{formatted_texts}\\n\\n\"\n",
    "            \"Please provide the final answer in Korean(hangul).\"\n",
    "        ),\n",
    "    }\n",
    "    messages.append(text_message)\n",
    "    return [HumanMessage(content=messages)]\n",
    "\n",
    "\n",
    "def multi_modal_rag_chain(retriever):\n",
    "    \"\"\"\n",
    "    Multi-modal RAG chain\n",
    "    \"\"\"\n",
    "\n",
    "    # Multi-modal LLM\n",
    "    model = ChatOpenAI(temperature=0, model=\"gpt-4-vision-preview\", max_tokens=1024)\n",
    "    llava_model = OllamaLLM(model=\"llava:7b\")\n",
    "    # RAG pipeline\n",
    "    chain = (\n",
    "        {\n",
    "            \"context\": retriever | RunnableLambda(split_image_text_types),\n",
    "            \"question\": RunnablePassthrough(),\n",
    "        }\n",
    "        | RunnableLambda(img_prompt_func)\n",
    "        | llava_model # model\n",
    "        | StrOutputParser()\n",
    "    )\n",
    "\n",
    "    return chain\n",
    "\n",
    "\n",
    "def korean_convert_rag():\n",
    "    \"\"\"\n",
    "    RAG chain for converting English text to Korean\n",
    "    \"\"\"\n",
    "    # or gpt-4 oepn-ai 모델 선택부분은 공식 홈페이지에서 확인 가능합니다. 현재는 gpt-3.5-turbo 모델을 사용하겠습니다.\n",
    "    # model = ChatOpenAI(model=\"gpt-3.5-turbo\",temperature=0)\n",
    "    llamaModel = OllamaLLM(model=\"llama3.1:8b\")\n",
    "\n",
    "    # Prompt template\n",
    "    prompt = ChatPromptTemplate.from_messages([\n",
    "        (\"system\", \"You are a helpful assistant that translates English to Korean.\"),\n",
    "        (\"human\", \"Translate the following English text to Korean: {english_text}\")\n",
    "    ])\n",
    "\n",
    "    # RAG pipeline\n",
    "    chain = (\n",
    "        {\"english_text\": RunnablePassthrough()}\n",
    "        | prompt\n",
    "        | llamaModel #model\n",
    "        | StrOutputParser()\n",
    "    )\n",
    "\n",
    "    return chain\n",
    "\n",
    "    \n",
    "\n",
    "# Create RAG chain\n",
    "chain_multimodal_rag = multi_modal_rag_chain(retriever_multi_vector_img)\n",
    "\n",
    "#혹시나 답변이 영어로 나온다면 korean_convert_rag를 chain을 생성하여서 rag 진행\n",
    "korean_convert_rag = korean_convert_rag()\n",
    "final_multimodal_rag = chain_multimodal_rag | korean_convert_rag\n",
    "\n"
   ]
  },
  {
   "cell_type": "markdown",
   "id": "087ab1e2-fc9a-42af-9d93-a35dd172b130",
   "metadata": {},
   "source": [
    "### 조회 결과 확인\n",
    "\n",
    "주어진 질문에 관련된 이미지를 검색하여 반환합니다."
   ]
  },
  {
   "cell_type": "code",
   "execution_count": 2,
   "id": "9f4695c6-7374-4284-b2fe-a94ac17b630f",
   "metadata": {},
   "outputs": [
    {
     "ename": "NameError",
     "evalue": "name 'retriever_multi_vector_img' is not defined",
     "output_type": "error",
     "traceback": [
      "\u001b[0;31m---------------------------------------------------------------------------\u001b[0m",
      "\u001b[0;31mNameError\u001b[0m                                 Traceback (most recent call last)",
      "Cell \u001b[0;32mIn[2], line 2\u001b[0m\n\u001b[1;32m      1\u001b[0m query \u001b[38;5;241m=\u001b[39m \u001b[38;5;124m\"\u001b[39m\u001b[38;5;124m주가변동률에 가장 관련있는 자료를 찾아줘\u001b[39m\u001b[38;5;124m\"\u001b[39m\n\u001b[0;32m----> 2\u001b[0m docs \u001b[38;5;241m=\u001b[39m \u001b[43mretriever_multi_vector_img\u001b[49m\u001b[38;5;241m.\u001b[39minvoke(query)\n\u001b[1;32m      4\u001b[0m \u001b[38;5;66;03m# We get 4 docs\u001b[39;00m\n\u001b[1;32m      5\u001b[0m \u001b[38;5;28mlen\u001b[39m(docs)\n",
      "\u001b[0;31mNameError\u001b[0m: name 'retriever_multi_vector_img' is not defined"
     ]
    }
   ],
   "source": [
    "query = \"주가변동률에 가장 관련있는 자료를 찾아줘\"\n",
    "docs = retriever_multi_vector_img.invoke(query)\n",
    "\n",
    "# We get 4 docs\n",
    "len(docs)"
   ]
  },
  {
   "cell_type": "code",
   "execution_count": 85,
   "id": "74343bdf-1a0a-429f-8df6-7b07ac05ee33",
   "metadata": {},
   "outputs": [
    {
     "data": {
      "text/html": [
       "<img src=\"data:image/jpeg;base64,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\" />"
      ],
      "text/plain": [
       "<IPython.core.display.HTML object>"
      ]
     },
     "metadata": {},
     "output_type": "display_data"
    }
   ],
   "source": [
    "# 첫 번쨰 문서를 이미지로 표시합니다\n",
    "plt_img_base64(docs[0])"
   ]
  },
  {
   "cell_type": "markdown",
   "id": "97b4a9ca-bd95-4985-9f4f-8cedf1949a48",
   "metadata": {},
   "source": [
    "### 검증\n",
    "왜 이 방법이 효과적인지 이해하기 위해 저장한 이미지를 다시 봅시다."
   ]
  },
  {
   "cell_type": "code",
   "execution_count": 61,
   "id": "94c74413-9dd7-4337-bdca-05e9ee151f27",
   "metadata": {},
   "outputs": [
    {
     "data": {
      "text/html": [
       "<img src=\"data:image/jpeg;base64,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\" />"
      ],
      "text/plain": [
       "<IPython.core.display.HTML object>"
      ]
     },
     "metadata": {},
     "output_type": "display_data"
    }
   ],
   "source": [
    "# 찾아준 이미지와 저정된 이미지의 순서를 확인하여서 이미지 요약 내용이 질문이랑 연관성이 있는지 확인해봅니다.\n",
    "plt_img_base64(img_base64_list[5])"
   ]
  },
  {
   "cell_type": "markdown",
   "id": "2bdfd863-c756-4cb4-b7be-ea00284687d2",
   "metadata": {},
   "source": [
    "### Sanity Check\n",
    "\n",
    "Why does this work? Let's look back at the image that we stored ..."
   ]
  },
  {
   "cell_type": "code",
   "execution_count": 63,
   "id": "bab422d9-104f-4e47-9760-96bdfdd3a9cf",
   "metadata": {},
   "outputs": [
    {
     "data": {
      "text/html": [
       "<img src=\"data:image/jpeg;base64,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\" />"
      ],
      "text/plain": [
       "<IPython.core.display.HTML object>"
      ]
     },
     "metadata": {},
     "output_type": "display_data"
    }
   ],
   "source": [
    "# 해당 이미지의 요약을 확인합니다\n",
    "image_summaries[5]"
   ]
  },
  {
   "cell_type": "code",
   "execution_count": 66,
   "id": "bfb944f3-712b-4bdb-9396-6d4afdc62af4",
   "metadata": {},
   "outputs": [
    {
     "data": {
      "text/plain": [
       "' 헤더를 제공하지 않았으므로, 이미지는 일종의 그래프 및 데이터 표시가 있는 것으로 설명될 수 있습니다.\\n\\n잠에 두 개의 그래프가 있고, 각 그래프는 차트와 데이터 표를 포함하고 있으며, 텍스트가 각 그래프 위에 떨어져 있습니다.\\n\\n첫 번째 그래프의 제목은 \"한국\"로, 이는 한국의 시장과 관련된 데이터를 나타내며, 데이터 표는 금융, 신용등의 기업들의 대표적인 정보를 포함하고 있습니다.\\n\\n두 번째 그래프의 제목은 \"한국\"로, 이는 한국의 시장과 관련된 데이터를 나타내며, 데이터 표는 기업들의 대표적인 정보를 포함하고 있습니다.\\n\\n두 개의 그래프에서는 각 그래프에서 \"일본\"을 찾아볼 수 있으며, 이는 일본과 한국 간의 관련된 정보를 표시합니다.\\n\\n따라서, 이미지는 전쟁적인 그래프와 데이터 표가 포함되어 있으며, 두 개의 그래프는 \"한국\"과 \"일본\"을 중심으로 다룹니다. '"
      ]
     },
     "execution_count": 66,
     "metadata": {},
     "output_type": "execute_result"
    }
   ],
   "source": [
    "image_summaries[5]"
   ]
  },
  {
   "cell_type": "markdown",
   "id": "a60c457c-a675-4689-a6c4-a843f28a9c23",
   "metadata": {},
   "source": [
    "### RAG 실행\n",
    "질문에 대한 종합적인 답변을 생성하기 위해 RAG를 실행합니다."
   ]
  },
  {
   "cell_type": "code",
   "execution_count": 67,
   "id": "9c64b19e-5a89-4dda-af38-fcc4a36a1b44",
   "metadata": {},
   "outputs": [
    {
     "data": {
      "text/plain": [
       "' 고객님께 안녕하세요! 코스피와 관련된 전망을 종합적으로 알려드리겠습니다.\\n\\n일단, 코스피는 한국에서 주식시장의 대표적인 대형 기술제품과 금속 등의 산업의 주요 투자 대상으로 간주됩니다. 일반적인 전망은 국내 경제 성장, 전력 및 유전자 시장 성장 등에 따라 발생할 수 있습니다.\\n\\n그러나, 코스피는 매우 귀중한 투자 대상이기 때문에 항상 신뢰도와 주당지분을 고려하는 것이 좋습니다. 또한, 전력 및 유전자 시장 등의 산업과 관련된 기업들은 일반적인 경제 성장에도 별도로 영향을 받는 경우가 있습니다.\\n\\n따라서, 코스피와 관련된 투자에 대해서는 국내 경제 및 기업 성과 등에 따라 변화하며, 전력 및 유전자 시장 등의 산업에도 영향을 받는다는 점을 명심하고, 신뢰도와 주당지분을 귀중히 고려한 것이 좋습니다.\\n\\n최종적으로, 코스피와 관련된 투자에 대해서는 국내 경제 및 기업 성과 등에 따라 변화할 수 있으므로, 신뢰도와 주당지분을 귀중히 고려하고 유연한 투자 전략을 세우십시오.\\n\\n저는 이 정보를 바탕으로 긍정적인 투자 조언을 제공할 수 있습니다. 코스피와 관련된 투자에 대해서는 신뢰도와 주당지분을 귀중히 고려하며, 국내 경제 및 기업 성과 등에 따라 변화할 수 있으므로, 유연한 투자 전략을 세우십시오.\\n\\n감사합니다! '"
      ]
     },
     "execution_count": 67,
     "metadata": {},
     "output_type": "execute_result"
    }
   ],
   "source": [
    "# RAG 체인 실행\n",
    "query = \"코스피 관련해서 전망을 종합적으로 알려줘\"\n",
    "chain_multimodal_rag.invoke(query)"
   ]
  },
  {
   "cell_type": "code",
   "execution_count": 29,
   "id": "1c3bf850-7b52-4b08-b807-2a458867ae75",
   "metadata": {},
   "outputs": [
    {
     "data": {
      "text/plain": [
       "'Here is the translation:\\n\\n**안녕하세요. 제가 이해한 내용은 아래와 같습니다:**\\n\\n**KOSPI 지수는 첫 단계로 크게 조정받았지만 미국 증시는 연동의 긴급 조치를 기다리기는 아직 조정이 크지 않다고 판단합니다.**\\n\\n**11월에는 미국의 대선과 FOMC라는 대규모 이벤트가 있으며 높아진 변동성을 기울이고, 올해 KOSPI 지수는 단기 반적 후 기간조정을 거치다가 11월 미국의 대선과 FOMC를 앞두고 회복세를 보일 것으로 전망하며, 내년 KOSPI 지수의 3,000pt 도전 가능성은 이후의 글로벌 경기 방향성과 미국의 금리인하 속도에 달려 있다고 판단합니다.**\\n\\n**그림13에서는 선행 P/E(예측 가격-수익률)가 8배까지 급락하며, 20년 코로나 발생과 2018년의 미중 무역분쟁 및 금리인상 텐트럼과 같은 레벨입니다.**\\n\\n**KOSPI 지수는 11월 초에는 미 대선, FOMC라는 긴급 이벤트가 있으며 높아진 변동성을 기울이고, 올해 KOSPI 지수는 단기 반적 후 기간조정을 거치다가 11월 미국의 대선과 FOMC를 앞두고 회복세를 보일 것으로 전망하며, 내년 KOSPI 지수의 3,000pt 도전 가능성은 이후의 글로벌 경기 방향성과 미국의 금리인하 속도에 달려 있다고 판단합니다.**\\n\\n**그림14에서는 KOSPI 지수는 단기 반적을 거친 후 기간조정을 거치다가 11월 미국의 대선과 FOMC를 앞두고 회복세를 보일 것으로 전망하며, 내년 KOSPI 지수의 3,000pt 도전 가능성은 이후의 글로벌 경기 방향성과 미국의 금리인하 속도에 달려 있다고 판단합니다.**\\n\\n**자료 출처: Quantiwise, 하이투자증권 리서치본부**\\n\\n**제가 알려드릴 점은 11월 미국의 대선과 FOMC라는 큰 이벤트가 있으며 그 후에 KOSPI 지수는 단기 반적을 거친다고 예상합니다.**'"
      ]
     },
     "execution_count": 29,
     "metadata": {},
     "output_type": "execute_result"
    }
   ],
   "source": [
    "# 최종 멀티모달 RAG 체인 실행\n",
    "final_multimodal_rag.invoke(query)"
   ]
  },
  {
   "cell_type": "markdown",
   "id": "dea241f1-bd11-45cb-bb33-c4e2e8286855",
   "metadata": {},
   "source": [
    "### 고려 사항\n",
    "\n",
    "**조회**\n",
    "\n",
    "- 조회는 이미지 요약 및 텍스트 조각과의 유사성을 기반으로 수행됩니다.\n",
    "- 텍스트 조각이 많을 경우 이미지 조회가 실패할 수 있습니다.\n",
    "- 이를 방지하기 위해 4k 토큰 크기의 텍스트 조각을 생성하고 이를 요약하여 조회에 사용합니다.\n",
    "\n",
    "**이미지 크기**\n",
    "\n",
    "- 답변의 품질은 이미지 크기에 민감합니다. [참고: OpenAI Vision 가이드](https://platform.openai.com/docs/guides/vision).\n",
    "- 이를 더 면밀히 테스트하기 위해 평가를 수행할 예정입니다."
   ]
  }
 ],
 "metadata": {
  "kernelspec": {
   "display_name": "Python 3 (ipykernel)",
   "language": "python",
   "name": "python3"
  },
  "language_info": {
   "codemirror_mode": {
    "name": "ipython",
    "version": 3
   },
   "file_extension": ".py",
   "mimetype": "text/x-python",
   "name": "python",
   "nbconvert_exporter": "python",
   "pygments_lexer": "ipython3",
   "version": "3.12.2"
  }
 },
 "nbformat": 4,
 "nbformat_minor": 5
}
